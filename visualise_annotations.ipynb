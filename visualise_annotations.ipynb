{
 "cells": [
  {
   "cell_type": "code",
   "execution_count": 1,
   "metadata": {},
   "outputs": [
    {
     "name": "stdout",
     "output_type": "stream",
     "text": [
      "Looking in indexes: https://pypi.org/simple, https://pypi.ngc.nvidia.com\n",
      "Collecting fiftyone\n",
      "  Downloading fiftyone-0.14.2-py3-none-any.whl (1.2 MB)\n",
      "\u001b[K     |████████████████████████████████| 1.2 MB 1.2 MB/s \n",
      "\u001b[?25hCollecting argcomplete\n",
      "  Downloading argcomplete-1.12.3-py2.py3-none-any.whl (38 kB)\n",
      "Collecting pymongo<4,>=3.11\n",
      "  Downloading pymongo-3.12.3-cp39-cp39-manylinux_2_17_x86_64.manylinux2014_x86_64.whl (516 kB)\n",
      "\u001b[K     |████████████████████████████████| 516 kB 987 kB/s \n",
      "\u001b[?25hCollecting pytz\n",
      "  Downloading pytz-2021.3-py2.py3-none-any.whl (503 kB)\n",
      "\u001b[K     |████████████████████████████████| 503 kB 1.6 MB/s \n",
      "\u001b[?25hCollecting matplotlib\n",
      "  Downloading matplotlib-3.5.1-cp39-cp39-manylinux_2_5_x86_64.manylinux1_x86_64.whl (11.2 MB)\n",
      "\u001b[K     |████████████████████████████████| 11.2 MB 5.5 MB/s \n",
      "\u001b[?25hCollecting future\n",
      "  Downloading future-0.18.2.tar.gz (829 kB)\n",
      "\u001b[K     |████████████████████████████████| 829 kB 8.8 MB/s \n",
      "\u001b[?25hCollecting pandas\n",
      "  Downloading pandas-1.3.5-cp39-cp39-manylinux_2_17_x86_64.manylinux2014_x86_64.whl (11.5 MB)\n",
      "\u001b[K     |████████████████████████████████| 11.5 MB 5.5 MB/s \n",
      "\u001b[?25hCollecting retrying\n",
      "  Downloading retrying-1.3.3.tar.gz (10 kB)\n",
      "Collecting Pillow>=6.2\n",
      "  Downloading Pillow-8.4.0-cp39-cp39-manylinux_2_17_x86_64.manylinux2014_x86_64.whl (3.1 MB)\n",
      "\u001b[K     |████████████████████████████████| 3.1 MB 4.9 MB/s \n",
      "\u001b[?25hCollecting PyYAML\n",
      "  Downloading PyYAML-6.0-cp39-cp39-manylinux_2_5_x86_64.manylinux1_x86_64.manylinux_2_12_x86_64.manylinux2010_x86_64.whl (661 kB)\n",
      "\u001b[K     |████████████████████████████████| 661 kB 4.3 MB/s \n",
      "\u001b[?25hCollecting fiftyone-db<0.4,>=0.3\n",
      "  Downloading fiftyone_db-0.3.0-py3-none-manylinux1_x86_64.whl (29.2 MB)\n",
      "\u001b[K     |████████████████████████████████| 29.2 MB 2.6 MB/s \n",
      "\u001b[?25hCollecting tabulate\n",
      "  Downloading tabulate-0.8.9-py3-none-any.whl (25 kB)\n",
      "Collecting numpy\n",
      "  Downloading numpy-1.21.4-cp39-cp39-manylinux_2_12_x86_64.manylinux2010_x86_64.whl (15.7 MB)\n",
      "\u001b[K     |████████████████████████████████| 15.7 MB 11.0 MB/s \n",
      "\u001b[?25hCollecting universal-analytics-python3<2,>=1.0.1\n",
      "  Downloading universal_analytics_python3-1.1.1-py3-none-any.whl (10 kB)\n",
      "Collecting fiftyone-brain<0.8,>=0.7.2\n",
      "  Downloading fiftyone_brain-0.7.2-cp39-cp39-manylinux1_x86_64.whl (645 kB)\n",
      "\u001b[K     |████████████████████████████████| 645 kB 109.2 MB/s \n",
      "\u001b[?25hCollecting boto3\n",
      "  Downloading boto3-1.20.23-py3-none-any.whl (131 kB)\n",
      "\u001b[K     |████████████████████████████████| 131 kB 9.2 MB/s \n",
      "\u001b[?25hCollecting scikit-learn\n",
      "  Downloading scikit_learn-1.0.1-cp39-cp39-manylinux_2_12_x86_64.manylinux2010_x86_64.whl (24.7 MB)\n",
      "\u001b[K     |████████████████████████████████| 24.7 MB 6.9 MB/s \n",
      "\u001b[?25hCollecting xmltodict\n",
      "  Downloading xmltodict-0.12.0-py2.py3-none-any.whl (9.2 kB)\n",
      "Collecting Deprecated\n",
      "  Downloading Deprecated-1.2.13-py2.py3-none-any.whl (9.6 kB)\n",
      "Collecting kaleido\n",
      "  Downloading kaleido-0.2.1-py2.py3-none-manylinux1_x86_64.whl (79.9 MB)\n",
      "\u001b[K     |████████████████████████████████| 79.9 MB 6.8 MB/s \n",
      "\u001b[?25hCollecting mongoengine==0.20.0\n",
      "  Downloading mongoengine-0.20.0-py3-none-any.whl (106 kB)\n",
      "\u001b[K     |████████████████████████████████| 106 kB 22.1 MB/s \n",
      "\u001b[?25hCollecting plotly<5,>=4.14\n",
      "  Downloading plotly-4.14.3-py2.py3-none-any.whl (13.2 MB)\n",
      "\u001b[K     |████████████████████████████████| 13.2 MB 14.6 MB/s \n",
      "\u001b[?25hCollecting eventlet\n",
      "  Downloading eventlet-0.33.0-py2.py3-none-any.whl (226 kB)\n",
      "\u001b[K     |████████████████████████████████| 226 kB 15.1 MB/s \n",
      "\u001b[?25hCollecting opencv-python-headless\n",
      "  Downloading opencv_python_headless-4.5.4.60-cp39-cp39-manylinux_2_17_x86_64.manylinux2014_x86_64.whl (47.6 MB)\n",
      "\u001b[K     |████████████████████████████████| 47.6 MB 8.3 MB/s \n",
      "\u001b[?25hCollecting voxel51-eta<0.7,>=0.6.1\n",
      "  Downloading voxel51_eta-0.6.1-py2.py3-none-any.whl (562 kB)\n",
      "\u001b[K     |████████████████████████████████| 562 kB 10.6 MB/s \n",
      "\u001b[?25hCollecting motor<3,>=2.3\n",
      "  Downloading motor-2.5.1-py3-none-any.whl (55 kB)\n",
      "\u001b[K     |████████████████████████████████| 55 kB 16.0 MB/s \n",
      "\u001b[?25hCollecting scikit-image\n",
      "  Downloading scikit_image-0.19.0-cp39-cp39-manylinux_2_17_x86_64.manylinux2014_x86_64.whl (59.7 MB)\n",
      "\u001b[K     |████████████████████████████████| 59.7 MB 5.6 MB/s \n",
      "\u001b[?25hCollecting psutil\n",
      "  Downloading psutil-5.8.0-cp39-cp39-manylinux2010_x86_64.whl (293 kB)\n",
      "\u001b[K     |████████████████████████████████| 293 kB 10.4 MB/s \n",
      "\u001b[?25hRequirement already satisfied: tornado<7,>=5.1.1 in ./.venv/lib/python3.9/site-packages (from fiftyone) (6.1)\n",
      "Collecting Jinja2\n",
      "  Downloading Jinja2-3.0.3-py3-none-any.whl (133 kB)\n",
      "\u001b[K     |████████████████████████████████| 133 kB 10.2 MB/s \n",
      "\u001b[?25hCollecting packaging\n",
      "  Downloading packaging-21.3-py3-none-any.whl (40 kB)\n",
      "\u001b[K     |████████████████████████████████| 40 kB 13.0 MB/s \n",
      "\u001b[?25hCollecting pprintpp\n",
      "  Downloading pprintpp-0.4.0-py2.py3-none-any.whl (16 kB)\n",
      "Collecting aiofiles\n",
      "  Downloading aiofiles-0.8.0-py3-none-any.whl (13 kB)\n",
      "Requirement already satisfied: setuptools in ./.venv/lib/python3.9/site-packages (from fiftyone) (57.4.0)\n",
      "Collecting scipy>=1.2.0\n",
      "  Downloading scipy-1.7.3-cp39-cp39-manylinux_2_17_x86_64.manylinux2014_x86_64.whl (39.8 MB)\n",
      "\u001b[K     |████████████████████████████████| 39.8 MB 18.4 MB/s \n",
      "\u001b[?25hRequirement already satisfied: six in ./.venv/lib/python3.9/site-packages (from plotly<5,>=4.14->fiftyone) (1.16.0)\n",
      "Collecting httpx>=0.10.0\n",
      "  Downloading httpx-0.21.1-py3-none-any.whl (83 kB)\n",
      "\u001b[K     |████████████████████████████████| 83 kB 13.4 MB/s \n",
      "\u001b[?25hRequirement already satisfied: certifi in ./.venv/lib/python3.9/site-packages (from httpx>=0.10.0->universal-analytics-python3<2,>=1.0.1->fiftyone) (2021.10.8)\n",
      "Collecting httpcore<0.15.0,>=0.14.0\n",
      "  Downloading httpcore-0.14.3-py3-none-any.whl (56 kB)\n",
      "\u001b[K     |████████████████████████████████| 56 kB 18.1 MB/s \n",
      "\u001b[?25hCollecting rfc3986[idna2008]<2,>=1.3\n",
      "  Downloading rfc3986-1.5.0-py2.py3-none-any.whl (31 kB)\n",
      "Requirement already satisfied: charset-normalizer in ./.venv/lib/python3.9/site-packages (from httpx>=0.10.0->universal-analytics-python3<2,>=1.0.1->fiftyone) (2.0.9)\n",
      "Collecting sniffio\n",
      "  Downloading sniffio-1.2.0-py3-none-any.whl (10 kB)\n",
      "Collecting anyio==3.*\n",
      "  Downloading anyio-3.4.0-py3-none-any.whl (78 kB)\n",
      "\u001b[K     |████████████████████████████████| 78 kB 20.0 MB/s \n",
      "\u001b[?25hCollecting h11<0.13,>=0.11\n",
      "  Downloading h11-0.12.0-py3-none-any.whl (54 kB)\n",
      "\u001b[K     |████████████████████████████████| 54 kB 20.8 MB/s \n",
      "\u001b[?25hRequirement already satisfied: idna>=2.8 in ./.venv/lib/python3.9/site-packages (from anyio==3.*->httpcore<0.15.0,>=0.14.0->httpx>=0.10.0->universal-analytics-python3<2,>=1.0.1->fiftyone) (3.3)\n",
      "Collecting dill\n",
      "  Downloading dill-0.3.4-py2.py3-none-any.whl (86 kB)\n",
      "\u001b[K     |████████████████████████████████| 86 kB 13.8 MB/s \n",
      "\u001b[?25hCollecting ndjson\n",
      "  Downloading ndjson-0.3.1-py2.py3-none-any.whl (5.3 kB)\n",
      "Collecting patool\n",
      "  Downloading patool-1.12-py2.py3-none-any.whl (77 kB)\n",
      "\u001b[K     |████████████████████████████████| 77 kB 19.6 MB/s \n",
      "\u001b[?25hCollecting sortedcontainers\n",
      "  Downloading sortedcontainers-2.4.0-py2.py3-none-any.whl (29 kB)\n",
      "Collecting tzlocal\n",
      "  Downloading tzlocal-4.1-py3-none-any.whl (19 kB)\n",
      "Requirement already satisfied: requests in ./.venv/lib/python3.9/site-packages (from voxel51-eta<0.7,>=0.6.1->fiftyone) (2.26.0)\n",
      "Collecting glob2\n",
      "  Downloading glob2-0.7.tar.gz (10 kB)\n",
      "Requirement already satisfied: python-dateutil in ./.venv/lib/python3.9/site-packages (from voxel51-eta<0.7,>=0.6.1->fiftyone) (2.8.2)\n",
      "Collecting jmespath<1.0.0,>=0.7.1\n",
      "  Downloading jmespath-0.10.0-py2.py3-none-any.whl (24 kB)\n",
      "Collecting s3transfer<0.6.0,>=0.5.0\n",
      "  Downloading s3transfer-0.5.0-py3-none-any.whl (79 kB)\n",
      "\u001b[K     |████████████████████████████████| 79 kB 17.3 MB/s \n",
      "\u001b[?25hCollecting botocore<1.24.0,>=1.23.23\n",
      "  Downloading botocore-1.23.23-py3-none-any.whl (8.4 MB)\n",
      "\u001b[K     |████████████████████████████████| 8.4 MB 2.5 MB/s \n",
      "\u001b[?25hRequirement already satisfied: urllib3<1.27,>=1.25.4 in ./.venv/lib/python3.9/site-packages (from botocore<1.24.0,>=1.23.23->boto3->fiftyone) (1.26.7)\n",
      "Collecting wrapt<2,>=1.10\n",
      "  Downloading wrapt-1.13.3-cp39-cp39-manylinux_2_5_x86_64.manylinux1_x86_64.manylinux_2_12_x86_64.manylinux2010_x86_64.whl (81 kB)\n",
      "\u001b[K     |████████████████████████████████| 81 kB 12.8 MB/s \n",
      "\u001b[?25hCollecting dnspython>=1.15.0\n",
      "  Downloading dnspython-2.1.0-py3-none-any.whl (241 kB)\n",
      "\u001b[K     |████████████████████████████████| 241 kB 10.5 MB/s \n",
      "\u001b[?25hCollecting greenlet>=0.3\n",
      "  Downloading greenlet-1.1.2-cp39-cp39-manylinux_2_17_x86_64.manylinux2014_x86_64.whl (153 kB)\n",
      "\u001b[K     |████████████████████████████████| 153 kB 14.9 MB/s \n",
      "\u001b[?25hCollecting MarkupSafe>=2.0\n",
      "  Downloading MarkupSafe-2.0.1-cp39-cp39-manylinux_2_5_x86_64.manylinux1_x86_64.manylinux_2_12_x86_64.manylinux2010_x86_64.whl (30 kB)\n",
      "Collecting cycler>=0.10\n",
      "  Downloading cycler-0.11.0-py3-none-any.whl (6.4 kB)\n",
      "Collecting pyparsing>=2.2.1\n",
      "  Downloading pyparsing-3.0.6-py3-none-any.whl (97 kB)\n",
      "\u001b[K     |████████████████████████████████| 97 kB 14.8 MB/s \n",
      "\u001b[?25hCollecting kiwisolver>=1.0.1\n",
      "  Downloading kiwisolver-1.3.2-cp39-cp39-manylinux_2_12_x86_64.manylinux2010_x86_64.whl (1.6 MB)\n",
      "\u001b[K     |████████████████████████████████| 1.6 MB 2.4 MB/s \n",
      "\u001b[?25hCollecting fonttools>=4.22.0\n",
      "  Downloading fonttools-4.28.3-py3-none-any.whl (884 kB)\n",
      "\u001b[K     |████████████████████████████████| 884 kB 9.1 MB/s \n",
      "\u001b[?25hCollecting PyWavelets>=1.1.1\n",
      "  Downloading PyWavelets-1.2.0-cp39-cp39-manylinux_2_5_x86_64.manylinux1_x86_64.manylinux_2_12_x86_64.manylinux2010_x86_64.whl (6.6 MB)\n",
      "\u001b[K     |████████████████████████████████| 6.6 MB 9.8 MB/s \n",
      "\u001b[?25hCollecting tifffile>=2019.7.26\n",
      "  Downloading tifffile-2021.11.2-py3-none-any.whl (178 kB)\n",
      "\u001b[K     |████████████████████████████████| 178 kB 12.7 MB/s \n",
      "\u001b[?25hCollecting networkx>=2.2\n",
      "  Downloading networkx-2.6.3-py3-none-any.whl (1.9 MB)\n",
      "\u001b[K     |████████████████████████████████| 1.9 MB 2.7 MB/s \n",
      "\u001b[?25hCollecting imageio>=2.4.1\n",
      "  Downloading imageio-2.13.3-py3-none-any.whl (3.3 MB)\n",
      "\u001b[K     |████████████████████████████████| 3.3 MB 9.7 MB/s \n",
      "\u001b[?25hCollecting threadpoolctl>=2.0.0\n",
      "  Downloading threadpoolctl-3.0.0-py3-none-any.whl (14 kB)\n",
      "Collecting joblib>=0.11\n",
      "  Downloading joblib-1.1.0-py2.py3-none-any.whl (306 kB)\n",
      "\u001b[K     |████████████████████████████████| 306 kB 9.3 MB/s \n",
      "\u001b[?25hCollecting pytz-deprecation-shim\n",
      "  Downloading pytz_deprecation_shim-0.1.0.post0-py2.py3-none-any.whl (15 kB)\n",
      "Collecting tzdata\n",
      "  Downloading tzdata-2021.5-py2.py3-none-any.whl (339 kB)\n",
      "\u001b[K     |████████████████████████████████| 339 kB 9.7 MB/s \n",
      "\u001b[?25hUsing legacy 'setup.py install' for retrying, since package 'wheel' is not installed.\n",
      "Using legacy 'setup.py install' for future, since package 'wheel' is not installed.\n",
      "Using legacy 'setup.py install' for glob2, since package 'wheel' is not installed.\n",
      "Installing collected packages: sniffio, tzdata, rfc3986, pyparsing, Pillow, numpy, jmespath, h11, anyio, tifffile, threadpoolctl, scipy, PyWavelets, pytz-deprecation-shim, packaging, networkx, joblib, imageio, httpcore, botocore, wrapt, tzlocal, tabulate, sortedcontainers, scikit-learn, scikit-image, s3transfer, retrying, pytz, pymongo, patool, opencv-python-headless, ndjson, MarkupSafe, kiwisolver, httpx, greenlet, glob2, future, fonttools, dnspython, dill, cycler, argcomplete, xmltodict, voxel51-eta, universal-analytics-python3, PyYAML, psutil, pprintpp, plotly, pandas, motor, mongoengine, matplotlib, kaleido, Jinja2, fiftyone-db, fiftyone-brain, eventlet, Deprecated, boto3, aiofiles, fiftyone\n",
      "    Running setup.py install for retrying ... \u001b[?25ldone\n",
      "\u001b[?25h    Running setup.py install for glob2 ... \u001b[?25ldone\n",
      "\u001b[?25h    Running setup.py install for future ... \u001b[?25ldone\n",
      "\u001b[?25hSuccessfully installed Deprecated-1.2.13 Jinja2-3.0.3 MarkupSafe-2.0.1 Pillow-8.4.0 PyWavelets-1.2.0 PyYAML-6.0 aiofiles-0.8.0 anyio-3.4.0 argcomplete-1.12.3 boto3-1.20.23 botocore-1.23.23 cycler-0.11.0 dill-0.3.4 dnspython-2.1.0 eventlet-0.33.0 fiftyone-0.14.2 fiftyone-brain-0.7.2 fiftyone-db-0.3.0 fonttools-4.28.3 future-0.18.2 glob2-0.7 greenlet-1.1.2 h11-0.12.0 httpcore-0.14.3 httpx-0.21.1 imageio-2.13.3 jmespath-0.10.0 joblib-1.1.0 kaleido-0.2.1 kiwisolver-1.3.2 matplotlib-3.5.1 mongoengine-0.20.0 motor-2.5.1 ndjson-0.3.1 networkx-2.6.3 numpy-1.21.4 opencv-python-headless-4.5.4.60 packaging-21.3 pandas-1.3.5 patool-1.12 plotly-4.14.3 pprintpp-0.4.0 psutil-5.8.0 pymongo-3.12.3 pyparsing-3.0.6 pytz-2021.3 pytz-deprecation-shim-0.1.0.post0 retrying-1.3.3 rfc3986-1.5.0 s3transfer-0.5.0 scikit-image-0.19.0 scikit-learn-1.0.1 scipy-1.7.3 sniffio-1.2.0 sortedcontainers-2.4.0 tabulate-0.8.9 threadpoolctl-3.0.0 tifffile-2021.11.2 tzdata-2021.5 tzlocal-4.1 universal-analytics-python3-1.1.1 voxel51-eta-0.6.1 wrapt-1.13.3 xmltodict-0.12.0\n",
      "\u001b[33mWARNING: You are using pip version 21.2.3; however, version 21.3.1 is available.\n",
      "You should consider upgrading via the '/home/victor/nvme/Projects/clearML/dragons_data/.venv/bin/python -m pip install --upgrade pip' command.\u001b[0m\n"
     ]
    }
   ],
   "source": [
    "!pip install fiftyone"
   ]
  },
  {
   "cell_type": "code",
   "execution_count": 1,
   "metadata": {},
   "outputs": [],
   "source": [
    "import fiftyone as fo\n",
    "import os\n",
    "\n",
    "\n",
    "# Should lead to a directory with a train and val folder as well as an annotations folder\n",
    "dataset_dir = \"data\"\n",
    "dataset_name = \"dragons\"\n",
    "\n",
    "\n",
    "# Reload the dataset if it was persistent\n",
    "if dataset_name in fo.list_datasets():\n",
    "    fo.delete_dataset(dataset_name)"
   ]
  },
  {
   "cell_type": "code",
   "execution_count": 2,
   "metadata": {},
   "outputs": [
    {
     "name": "stdout",
     "output_type": "stream",
     "text": [
      " 100% |███████████████████| 98/98 [160.9ms elapsed, 0s remaining, 609.1 samples/s]     \n"
     ]
    }
   ],
   "source": [
    "dataset = fo.Dataset.from_dir(\n",
    "    dataset_type=fo.types.COCODetectionDataset,\n",
    "    data_path= os.path.join(dataset_dir, \"train\"),\n",
    "    labels_path= os.path.join(\"annotations/train.json\"),\n",
    "    name=dataset_name,\n",
    "    tags=\"train\",\n",
    ")"
   ]
  },
  {
   "cell_type": "code",
   "execution_count": 3,
   "metadata": {},
   "outputs": [
    {
     "name": "stdout",
     "output_type": "stream",
     "text": [
      " 100% |███████████████████| 10/10 [17.9ms elapsed, 0s remaining, 558.0 samples/s]    \n"
     ]
    },
    {
     "data": {
      "text/plain": [
       "['61b732da250636c88d8f4d32',\n",
       " '61b732da250636c88d8f4d36',\n",
       " '61b732da250636c88d8f4d37',\n",
       " '61b732da250636c88d8f4d3e',\n",
       " '61b732da250636c88d8f4d3f',\n",
       " '61b732da250636c88d8f4d40',\n",
       " '61b732da250636c88d8f4d41',\n",
       " '61b732da250636c88d8f4d49',\n",
       " '61b732da250636c88d8f4d4a',\n",
       " '61b732da250636c88d8f4d4b']"
      ]
     },
     "execution_count": 3,
     "metadata": {},
     "output_type": "execute_result"
    }
   ],
   "source": [
    "dataset.add_dir(\n",
    "    dataset_type=fo.types.COCODetectionDataset,\n",
    "    data_path= os.path.join(dataset_dir, \"val\"),\n",
    "    labels_path= os.path.join(\"annotations/val.json\"),\n",
    "    tags=\"val\",\n",
    ")"
   ]
  },
  {
   "cell_type": "code",
   "execution_count": 4,
   "metadata": {},
   "outputs": [
    {
     "data": {
      "text/html": [
       "\n",
       "        <iframe\n",
       "            width=\"100%\"\n",
       "            height=\"800\"\n",
       "            src=\"http://localhost:5151/?notebook=true&handleId=c88ff1c3-94ae-45cd-8d10-ea84fddc9d8d\"\n",
       "            frameborder=\"0\"\n",
       "            allowfullscreen\n",
       "            \n",
       "        ></iframe>\n",
       "        "
      ],
      "text/plain": [
       "<IPython.lib.display.IFrame at 0x7f2fb8c6a0a0>"
      ]
     },
     "metadata": {},
     "output_type": "display_data"
    }
   ],
   "source": [
    "session = fo.launch_app(dataset)"
   ]
  },
  {
   "cell_type": "code",
   "execution_count": null,
   "metadata": {},
   "outputs": [],
   "source": []
  }
 ],
 "metadata": {
  "interpreter": {
   "hash": "fed2e47ad4b14e5ee5b9c790e0ca312890c63fb80b7eb2c33298d7abe59bcbf6"
  },
  "kernelspec": {
   "display_name": "Python 3.9.7 64-bit ('.venv')",
   "name": "python3"
  },
  "language_info": {
   "codemirror_mode": {
    "name": "ipython",
    "version": 3
   },
   "file_extension": ".py",
   "mimetype": "text/x-python",
   "name": "python",
   "nbconvert_exporter": "python",
   "pygments_lexer": "ipython3",
   "version": "3.9.7"
  },
  "orig_nbformat": 4
 },
 "nbformat": 4,
 "nbformat_minor": 2
}